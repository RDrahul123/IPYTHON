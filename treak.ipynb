{
 "cells": [
  {
   "cell_type": "code",
   "execution_count": 1,
   "id": "joint-trigger",
   "metadata": {},
   "outputs": [],
   "source": [
    "import pymongo"
   ]
  },
  {
   "cell_type": "code",
   "execution_count": 2,
   "id": "dated-failing",
   "metadata": {},
   "outputs": [],
   "source": [
    "client=pymongo.MongoClient()"
   ]
  },
  {
   "cell_type": "code",
   "execution_count": 3,
   "id": "going-president",
   "metadata": {},
   "outputs": [],
   "source": [
    "db=client['Simple']"
   ]
  },
  {
   "cell_type": "code",
   "execution_count": 5,
   "id": "invisible-vintage",
   "metadata": {},
   "outputs": [],
   "source": [
    "col=db['hello']"
   ]
  },
  {
   "cell_type": "code",
   "execution_count": 6,
   "id": "unavailable-eugene",
   "metadata": {},
   "outputs": [],
   "source": [
    "data=[\n",
    "    {\"_id\": \"110\", \"name\": \"Paul\", \"age\": \"34\", \"city\": \"Seoul\"},\n",
    "   {\"_id\": \"111\", \"name\": \"Alan\", \"age\": \"38\", \"city\": \"Tokyo\"},\n",
    "   {\"_id\": \"112\", \"name\": \"Samuel\", \"age\": \"41\", \"city\": \"California\"}\n",
    "    ]\n",
    "res=col.insert_many(data)"
   ]
  },
  {
   "cell_type": "code",
   "execution_count": 8,
   "id": "thermal-warner",
   "metadata": {},
   "outputs": [
    {
     "name": "stdout",
     "output_type": "stream",
     "text": [
      "{'_id': '110', 'name': 'Paul', 'age': '34', 'city': 'Seoul'}\n"
     ]
    }
   ],
   "source": [
    "print(col.find_one())"
   ]
  },
  {
   "cell_type": "code",
   "execution_count": 10,
   "id": "stuffed-stroke",
   "metadata": {},
   "outputs": [
    {
     "name": "stdout",
     "output_type": "stream",
     "text": [
      "['Simple', 'admin', 'config', 'fool', 'local', 'mydb', 'mylib']\n"
     ]
    }
   ],
   "source": [
    "print(client.list_database_names())"
   ]
  },
  {
   "cell_type": "code",
   "execution_count": 3,
   "id": "large-communist",
   "metadata": {},
   "outputs": [],
   "source": [
    "db1=client.Simple"
   ]
  },
  {
   "cell_type": "code",
   "execution_count": 4,
   "id": "disciplinary-engineering",
   "metadata": {},
   "outputs": [
    {
     "data": {
      "text/plain": [
       "{'_id': '110', 'name': 'Paul', 'age': '34', 'city': 'Seoul'}"
      ]
     },
     "execution_count": 4,
     "metadata": {},
     "output_type": "execute_result"
    }
   ],
   "source": [
    "db1.hello.find_one()"
   ]
  },
  {
   "cell_type": "code",
   "execution_count": 5,
   "id": "systematic-miller",
   "metadata": {},
   "outputs": [],
   "source": [
    "ses=db1.hello"
   ]
  },
  {
   "cell_type": "code",
   "execution_count": 6,
   "id": "quarterly-length",
   "metadata": {},
   "outputs": [
    {
     "name": "stdout",
     "output_type": "stream",
     "text": [
      "{'_id': '110', 'name': 'Paul', 'age': '34', 'city': 'Seoul'}\n",
      "{'_id': '111', 'name': 'Alan', 'age': '38', 'city': 'Tokyo'}\n",
      "{'_id': '112', 'name': 'Samuel', 'age': '41', 'city': 'California'}\n"
     ]
    }
   ],
   "source": [
    "for doc in ses.find():\n",
    "    print(doc)"
   ]
  },
  {
   "cell_type": "code",
   "execution_count": 13,
   "id": "portable-carpet",
   "metadata": {},
   "outputs": [
    {
     "name": "stdout",
     "output_type": "stream",
     "text": [
      "{'_id': '112', 'name': 'Samuel', 'age': '41', 'city': 'California'}\n",
      "{'_id': '110', 'name': 'Paul', 'age': '34', 'city': 'Seoul'}\n",
      "{'_id': '111', 'name': 'Alan', 'age': '38', 'city': 'Tokyo'}\n"
     ]
    }
   ],
   "source": [
    "for doc in ses.find().sort(\"name\",-1):\n",
    "    print(doc)"
   ]
  },
  {
   "cell_type": "code",
   "execution_count": 15,
   "id": "administrative-rubber",
   "metadata": {},
   "outputs": [],
   "source": [
    "data=[\n",
    "    {\"_id\": \"104\", \"name\": \"John\", \"age\": \"26\", \"city\": \"Manchester\"},\n",
    "   {\"_id\": \"105\", \"name\": \"Walter\", \"age\": \"29\", \"city\": \"New York\"},\n",
    "   {\"_id\": \"106\", \"name\": \"Rob\", \"age\": \"34\", \"city\": \"Seoul\"}\n",
    "    ]\n",
    "res=ses.insert_many(data)"
   ]
  },
  {
   "cell_type": "code",
   "execution_count": 16,
   "id": "paperback-factory",
   "metadata": {},
   "outputs": [
    {
     "name": "stdout",
     "output_type": "stream",
     "text": [
      "{'_id': '110', 'name': 'Paul', 'age': '34', 'city': 'Seoul'}\n",
      "{'_id': '111', 'name': 'Alan', 'age': '38', 'city': 'Tokyo'}\n",
      "{'_id': '112', 'name': 'Samuel', 'age': '41', 'city': 'California'}\n",
      "{'_id': '104', 'name': 'John', 'age': '26', 'city': 'Manchester'}\n",
      "{'_id': '105', 'name': 'Walter', 'age': '29', 'city': 'New York'}\n",
      "{'_id': '106', 'name': 'Rob', 'age': '34', 'city': 'Seoul'}\n"
     ]
    }
   ],
   "source": [
    "for doc in ses.find():\n",
    "    print(doc)"
   ]
  },
  {
   "cell_type": "code",
   "execution_count": 21,
   "id": "final-moore",
   "metadata": {},
   "outputs": [
    {
     "name": "stdout",
     "output_type": "stream",
     "text": [
      "{'_id': '111', 'name': 'Alan', 'age': '38', 'city': 'Tokyo'}\n",
      "{'_id': '104', 'name': 'John', 'age': '26', 'city': 'Manchester'}\n",
      "{'_id': '106', 'name': 'Rob', 'age': '34', 'city': 'Seoul'}\n",
      "{'_id': '112', 'name': 'Samuel', 'age': '41', 'city': 'California'}\n",
      "{'_id': '105', 'name': 'Walter', 'age': '29', 'city': 'New York'}\n"
     ]
    }
   ],
   "source": [
    "for doc in ses.find().sort(\"name\"):\n",
    "    print(doc)"
   ]
  },
  {
   "cell_type": "code",
   "execution_count": 19,
   "id": "subject-mayor",
   "metadata": {},
   "outputs": [],
   "source": [
    "result=ses.delete_one({\"name\":\"Paul\"})"
   ]
  },
  {
   "cell_type": "code",
   "execution_count": 23,
   "id": "eastern-sculpture",
   "metadata": {},
   "outputs": [
    {
     "name": "stdout",
     "output_type": "stream",
     "text": [
      "{'_id': '111', 'name': 'Alan', 'age': '38', 'city': 'Tokyo'}\n",
      "{'_id': '112', 'name': 'Samuel', 'age': '41', 'city': 'California'}\n",
      "{'_id': '104', 'name': 'John', 'age': '26', 'city': 'Manchester'}\n",
      "{'_id': '105', 'name': 'Walter', 'age': '29', 'city': 'New York'}\n",
      "{'_id': '106', 'name': 'Rob', 'age': '34', 'city': 'Seoul'}\n"
     ]
    }
   ],
   "source": [
    "for result in ses.find():\n",
    "    print(result)"
   ]
  },
  {
   "cell_type": "code",
   "execution_count": null,
   "id": "deluxe-furniture",
   "metadata": {},
   "outputs": [],
   "source": []
  },
  {
   "cell_type": "code",
   "execution_count": null,
   "id": "disturbed-tiger",
   "metadata": {},
   "outputs": [],
   "source": []
  }
 ],
 "metadata": {
  "kernelspec": {
   "display_name": "Python 3",
   "language": "python",
   "name": "python3"
  },
  "language_info": {
   "codemirror_mode": {
    "name": "ipython",
    "version": 3
   },
   "file_extension": ".py",
   "mimetype": "text/x-python",
   "name": "python",
   "nbconvert_exporter": "python",
   "pygments_lexer": "ipython3",
   "version": "3.9.2"
  }
 },
 "nbformat": 4,
 "nbformat_minor": 5
}

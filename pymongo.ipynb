{
 "cells": [
  {
   "cell_type": "code",
   "execution_count": 18,
   "id": "egyptian-mercy",
   "metadata": {},
   "outputs": [],
   "source": [
    "import pymongo"
   ]
  },
  {
   "cell_type": "code",
   "execution_count": 19,
   "id": "spread-immune",
   "metadata": {},
   "outputs": [],
   "source": [
    "obj=pymongo.MongoClient()"
   ]
  },
  {
   "cell_type": "code",
   "execution_count": 33,
   "id": "spiritual-soccer",
   "metadata": {},
   "outputs": [],
   "source": [
    "db=obj.mylib"
   ]
  },
  {
   "cell_type": "code",
   "execution_count": 37,
   "id": "signed-measure",
   "metadata": {},
   "outputs": [
    {
     "data": {
      "text/plain": [
       "{'_id': '1001', 'name': 'Ram', 'age': 26.0, 'city': 'Hyderabad'}"
      ]
     },
     "execution_count": 37,
     "metadata": {},
     "output_type": "execute_result"
    }
   ],
   "source": [
    "db.hello2.find_one()"
   ]
  },
  {
   "cell_type": "code",
   "execution_count": 49,
   "id": "surprising-hawaiian",
   "metadata": {},
   "outputs": [
    {
     "name": "stdout",
     "output_type": "stream",
     "text": [
      "Database created........\n"
     ]
    }
   ],
   "source": [
    "db2 = obj['mine']\n",
    "print(\"Database created........\")"
   ]
  },
  {
   "cell_type": "code",
   "execution_count": 50,
   "id": "competitive-logging",
   "metadata": {},
   "outputs": [
    {
     "name": "stdout",
     "output_type": "stream",
     "text": [
      "List of databases after creating new one\n",
      "['admin', 'config', 'local', 'mylib']\n"
     ]
    }
   ],
   "source": [
    "print(\"List of databases after creating new one\")\n",
    "print(obj.list_database_names())"
   ]
  },
  {
   "cell_type": "code",
   "execution_count": 51,
   "id": "built-block",
   "metadata": {},
   "outputs": [
    {
     "name": "stdout",
     "output_type": "stream",
     "text": [
      "Collection created........\n"
     ]
    }
   ],
   "source": [
    "collection = db['example']\n",
    "print(\"Collection created........\")"
   ]
  },
  {
   "cell_type": "code",
   "execution_count": 59,
   "id": "immune-sending",
   "metadata": {},
   "outputs": [],
   "source": [
    "coll = db['mine']\n",
    "data = [\n",
    "   {\"_id\": \"101\", \"name\": \"Ram\", \"age\": \"26\", \"city\": \"Hyderabad\"},\n",
    "   {\"_id\": \"102\", \"name\": \"Rahim\", \"age\": \"27\", \"city\": \"Bangalore\"},\n",
    "   {\"_id\": \"103\", \"name\": \"Robert\", \"age\": \"28\", \"city\": \"Mumbai\"}\n",
    "]\n",
    "res=coll.insert_many(data)"
   ]
  },
  {
   "cell_type": "code",
   "execution_count": null,
   "id": "juvenile-navigation",
   "metadata": {},
   "outputs": [],
   "source": [
    "print(obj.list_database_names())"
   ]
  },
  {
   "cell_type": "code",
   "execution_count": 29,
   "id": "built-celebration",
   "metadata": {},
   "outputs": [],
   "source": [
    "db=obj.mine\n",
    "db.collection.find_one()"
   ]
  },
  {
   "cell_type": "code",
   "execution_count": 46,
   "id": "juvenile-cleanup",
   "metadata": {},
   "outputs": [],
   "source": [
    "client =pymongo.MongoClient()"
   ]
  },
  {
   "cell_type": "code",
   "execution_count": 47,
   "id": "approved-logic",
   "metadata": {},
   "outputs": [
    {
     "name": "stdout",
     "output_type": "stream",
     "text": [
      "Database created........\n"
     ]
    }
   ],
   "source": [
    "db = client['mydb']\n",
    "print(\"Database created........\")"
   ]
  },
  {
   "cell_type": "code",
   "execution_count": 48,
   "id": "creative-treasury",
   "metadata": {},
   "outputs": [
    {
     "name": "stdout",
     "output_type": "stream",
     "text": [
      "List of databases after creating new one\n",
      "['admin', 'config', 'local', 'mylib']\n"
     ]
    }
   ],
   "source": [
    "print(\"List of databases after creating new one\")\n",
    "print(client.list_database_names())"
   ]
  },
  {
   "cell_type": "code",
   "execution_count": 60,
   "id": "vocal-shakespeare",
   "metadata": {},
   "outputs": [
    {
     "name": "stdout",
     "output_type": "stream",
     "text": [
      "['101', '102', '103']\n"
     ]
    }
   ],
   "source": [
    "print(res.inserted_ids)"
   ]
  },
  {
   "cell_type": "code",
   "execution_count": 61,
   "id": "satellite-lancaster",
   "metadata": {},
   "outputs": [
    {
     "name": "stdout",
     "output_type": "stream",
     "text": [
      "['admin', 'config', 'local', 'mydb', 'mylib']\n"
     ]
    }
   ],
   "source": [
    "print(obj.list_database_names())"
   ]
  },
  {
   "cell_type": "code",
   "execution_count": 62,
   "id": "qualified-marketplace",
   "metadata": {},
   "outputs": [],
   "source": [
    "hello=pymongo.MongoClient()"
   ]
  },
  {
   "cell_type": "code",
   "execution_count": 63,
   "id": "legal-hammer",
   "metadata": {},
   "outputs": [
    {
     "name": "stdout",
     "output_type": "stream",
     "text": [
      "Database Created\n"
     ]
    }
   ],
   "source": [
    "db2=hello['treak']\n",
    "print(\"Database Created\")"
   ]
  },
  {
   "cell_type": "code",
   "execution_count": 67,
   "id": "simple-wiring",
   "metadata": {},
   "outputs": [
    {
     "name": "stdout",
     "output_type": "stream",
     "text": [
      "['admin', 'config', 'local', 'mydb', 'mylib']\n"
     ]
    }
   ],
   "source": [
    "print(hello.list_database_names())"
   ]
  },
  {
   "cell_type": "code",
   "execution_count": 68,
   "id": "basic-representative",
   "metadata": {},
   "outputs": [
    {
     "name": "stdout",
     "output_type": "stream",
     "text": [
      "Collection Created\n"
     ]
    }
   ],
   "source": [
    "coll1=db['emp']\n",
    "print(\"Collection Created\")"
   ]
  },
  {
   "cell_type": "code",
   "execution_count": 69,
   "id": "creative-lebanon",
   "metadata": {},
   "outputs": [],
   "source": [
    "data1=[\n",
    "    {\"_id\": \"104\", \"name\": \"John\", \"age\": \"26\", \"city\": \"Manchester\"},\n",
    "   {\"_id\": \"105\", \"name\": \"Walter\", \"age\": \"29\", \"city\": \"New York\"},\n",
    "   {\"_id\": \"106\", \"name\": \"Rob\", \"age\": \"34\", \"city\": \"Seoul\"}\n",
    "    ]\n",
    "tes=coll1.insert_many(data1)"
   ]
  },
  {
   "cell_type": "code",
   "execution_count": 76,
   "id": "polished-grain",
   "metadata": {},
   "outputs": [
    {
     "name": "stdout",
     "output_type": "stream",
     "text": [
      "['104', '105', '106']\n"
     ]
    }
   ],
   "source": [
    "print(tes.inserted_ids)"
   ]
  },
  {
   "cell_type": "code",
   "execution_count": 71,
   "id": "considered-province",
   "metadata": {},
   "outputs": [
    {
     "name": "stdout",
     "output_type": "stream",
     "text": [
      "['admin', 'config', 'local', 'mydb', 'mylib']\n"
     ]
    }
   ],
   "source": [
    "print(hello.list_database_names())"
   ]
  },
  {
   "cell_type": "code",
   "execution_count": 72,
   "id": "grateful-robert",
   "metadata": {},
   "outputs": [
    {
     "name": "stdout",
     "output_type": "stream",
     "text": [
      "Database Created\n"
     ]
    }
   ],
   "source": [
    "db2=hello['treak']\n",
    "print(\"Database Created\")"
   ]
  },
  {
   "cell_type": "code",
   "execution_count": 74,
   "id": "involved-framework",
   "metadata": {},
   "outputs": [
    {
     "name": "stdout",
     "output_type": "stream",
     "text": [
      "['admin', 'config', 'local', 'mydb', 'mylib']\n"
     ]
    }
   ],
   "source": [
    "print(obj.list_database_names())"
   ]
  },
  {
   "cell_type": "code",
   "execution_count": 77,
   "id": "fifteen-auckland",
   "metadata": {},
   "outputs": [
    {
     "name": "stdout",
     "output_type": "stream",
     "text": [
      "{'_id': '105', 'name': 'Walter', 'age': '29', 'city': 'New York'}\n"
     ]
    }
   ],
   "source": [
    "print(coll1.find_one({\"_id\": \"105\"}))"
   ]
  },
  {
   "cell_type": "code",
   "execution_count": 79,
   "id": "extraordinary-lafayette",
   "metadata": {},
   "outputs": [
    {
     "name": "stdout",
     "output_type": "stream",
     "text": [
      "['admin', 'config', 'local', 'mydb', 'mylib']\n"
     ]
    }
   ],
   "source": [
    "print(hello.list_database_names())"
   ]
  },
  {
   "cell_type": "code",
   "execution_count": 80,
   "id": "great-wyoming",
   "metadata": {},
   "outputs": [
    {
     "name": "stdout",
     "output_type": "stream",
     "text": [
      "{'_id': '106', 'name': 'Rob', 'age': '34', 'city': 'Seoul'}\n"
     ]
    }
   ],
   "source": [
    "print(coll1.find_one({\"_id\": \"106\"}))"
   ]
  },
  {
   "cell_type": "code",
   "execution_count": 86,
   "id": "cheap-franchise",
   "metadata": {},
   "outputs": [],
   "source": [
    "db2=obj.treak"
   ]
  },
  {
   "cell_type": "code",
   "execution_count": 87,
   "id": "hungarian-paint",
   "metadata": {},
   "outputs": [],
   "source": [
    "db2.emp.find_one()"
   ]
  },
  {
   "cell_type": "code",
   "execution_count": null,
   "id": "partial-instruction",
   "metadata": {},
   "outputs": [],
   "source": []
  }
 ],
 "metadata": {
  "kernelspec": {
   "display_name": "Python 3",
   "language": "python",
   "name": "python3"
  },
  "language_info": {
   "codemirror_mode": {
    "name": "ipython",
    "version": 3
   },
   "file_extension": ".py",
   "mimetype": "text/x-python",
   "name": "python",
   "nbconvert_exporter": "python",
   "pygments_lexer": "ipython3",
   "version": "3.9.2"
  }
 },
 "nbformat": 4,
 "nbformat_minor": 5
}
